{
  "nbformat": 4,
  "nbformat_minor": 0,
  "metadata": {
    "colab": {
      "name": "Tugas_2_ML.ipynb",
      "provenance": [],
      "collapsed_sections": [],
      "include_colab_link": true
    },
    "kernelspec": {
      "name": "python3",
      "display_name": "Python 3"
    },
    "language_info": {
      "name": "python"
    }
  },
  "cells": [
    {
      "cell_type": "markdown",
      "metadata": {
        "id": "view-in-github",
        "colab_type": "text"
      },
      "source": [
        "<a href=\"https://colab.research.google.com/github/mattoriq/Tugas2ML/blob/main/Tugas_2_ML.ipynb\" target=\"_parent\"><img src=\"https://colab.research.google.com/assets/colab-badge.svg\" alt=\"Open In Colab\"/></a>"
      ]
    },
    {
      "cell_type": "code",
      "metadata": {
        "id": "R_RBxOxXnumN"
      },
      "source": [
        "# melakukan import library yang diperlukan\n",
        "\n",
        "import cv2\n",
        "from google.colab.patches import cv2_imshow\n",
        "import os\n",
        "import matplotlib.pyplot as plt\n",
        "import numpy as np\n",
        "import tensorflow as tf\n",
        "from tensorflow import keras"
      ],
      "execution_count": null,
      "outputs": []
    },
    {
      "cell_type": "markdown",
      "metadata": {
        "id": "yx-1WMWzLR08"
      },
      "source": [
        "1. Tentukan arsitektur multilayer perceptron (cukup 1 hidden layer) yang anda gunakan. Jumlah neuron di input layer = jumlah keseluruhan pixel dalam 1 image (320x240) => resize menjadi 320x240"
      ]
    },
    {
      "cell_type": "code",
      "metadata": {
        "id": "e-qxoGLVhULh"
      },
      "source": [
        "# mendeklarasikan ukuran image 320 x 240\n",
        "\n",
        "SIZE = (320, 240)"
      ],
      "execution_count": null,
      "outputs": []
    },
    {
      "cell_type": "code",
      "metadata": {
        "colab": {
          "base_uri": "https://localhost:8080/"
        },
        "id": "jY2nMgQvZ5h8",
        "outputId": "d85d0f73-d371-4975-ca98-6b135aee42a2"
      },
      "source": [
        "# menghubungkan code dengan google drive. membutuhkan ijin untuk akses drive.\n",
        "\n",
        "from google.colab import drive\n",
        "drive.mount('/content/drive')"
      ],
      "execution_count": null,
      "outputs": [
        {
          "output_type": "stream",
          "text": [
            "Mounted at /content/drive\n"
          ],
          "name": "stdout"
        }
      ]
    },
    {
      "cell_type": "markdown",
      "metadata": {
        "id": "nU3QTiXg1jf1"
      },
      "source": [
        "2. Buatlah kode python untuk mendefinisikan arsitektur yang digunakan"
      ]
    },
    {
      "cell_type": "code",
      "metadata": {
        "id": "K3m4G0hiMD-p"
      },
      "source": [
        "n_input = 320*240\n",
        "n_hidden = 3\n",
        "n_output = 3"
      ],
      "execution_count": null,
      "outputs": []
    },
    {
      "cell_type": "markdown",
      "metadata": {
        "id": "0ywGyKZJmzva"
      },
      "source": [
        "3. Buatlah kode python untuk mendefinisikan fungsi Load\n",
        "dataset dan visualisasi data (toriq)"
      ]
    },
    {
      "cell_type": "code",
      "metadata": {
        "id": "kqLdKnsCkqd9"
      },
      "source": [
        "daisy_path = '/content/drive/My Drive/daisy_100/'\n",
        "dandelion_path = '/content/drive/My Drive/dandelion_100/'\n",
        "sunflower_path = '/content/drive/My Drive/sunflower_100/'\n",
        "\n",
        "flower_data = []\n",
        "flower_class = []\n",
        "\n",
        "for file in os.listdir(daisy_path):\n",
        "  if file.endswith(\"jpg\"):\n",
        "    img = getGrayScale(daisy_path + file)\n",
        "    img = cv2.resize(img, SIZE, cv2.INTER_AREA)\n",
        "    flower_data.append(img)\n",
        "    flower_class.append(1)\n",
        "\n",
        "for file in os.listdir(dandelion_path):\n",
        "  if file.endswith(\"jpg\"):\n",
        "    img = getGrayScale(dandelion_path + file)\n",
        "    img = cv2.resize(img, SIZE, cv2.INTER_AREA)\n",
        "    flower_data.append(img)\n",
        "    flower_class.append(2)\n",
        "\n",
        "for file in os.listdir(sunflower_path):\n",
        "  if file.endswith(\"jpg\"):\n",
        "    img = getGrayScale(sunflower_path + file)\n",
        "    img = cv2.resize(img, SIZE, cv2.INTER_AREA)\n",
        "    flower_data.append(img)\n",
        "    flower_class.append(3)\n",
        "\n",
        "for data in flower_data:\n",
        "  plt.plot(data)\n",
        "plt.show()"
      ],
      "execution_count": null,
      "outputs": []
    },
    {
      "cell_type": "markdown",
      "metadata": {
        "id": "hpNZW89W1rJK"
      },
      "source": [
        "4. Buatlah kode python untuk mendefinisikan fungsi grayscale (boleh menggunakan library) (greyscale toriq)"
      ]
    },
    {
      "cell_type": "code",
      "metadata": {
        "id": "qB2enULhegly"
      },
      "source": [
        "# membaca image secara hitam putih/gray scale. dengan adanya 0 di fungsi imread dari cv2 maka fungsi imread akan menjadi grayscale\n",
        "\n",
        "def getGrayScale(img_path):\n",
        "  return cv2.imread(img_path, 0)"
      ],
      "execution_count": null,
      "outputs": []
    },
    {
      "cell_type": "markdown",
      "metadata": {
        "id": "eBQdTeBw1yc4"
      },
      "source": [
        "5. Buatlah kode python untuk mendefinisikan fungsi aktivasi sigmoid (khoirul)\n"
      ]
    },
    {
      "cell_type": "code",
      "metadata": {
        "id": "TevvY0olrz0B"
      },
      "source": [
        "# mendefinisikan fungsi aktivasi sigmoid\n",
        "\n",
        "def sigmoid(x):\n",
        " return 1 / (1 + np.exp(-x))"
      ],
      "execution_count": null,
      "outputs": []
    },
    {
      "cell_type": "markdown",
      "metadata": {
        "id": "kQjGC6sT10xx"
      },
      "source": [
        "6. Buatlah kode python untuk mendefinisikan fungsi algoritma pembelajaran backpropagation - Inisialisasi bobot and bias (toriq)"
      ]
    },
    {
      "cell_type": "code",
      "metadata": {
        "id": "8WMlnw9NmwzM",
        "colab": {
          "base_uri": "https://localhost:8080/"
        },
        "outputId": "f999263f-0a44-437c-ee45-188f4e05c7ea"
      },
      "source": [
        "def initialize(n_inputs, n_hidden, n_outputs):\n",
        "    weight_1 = np.random.rand(n_hidden, n_inputs + 1)\n",
        "    weight_2 = np.random.rand(n_outputs, n_hidden + 1)\n",
        "    return weight_1, weight_2\n",
        "\n",
        "n_inputs = 320 * 240\n",
        "n_hidden = 3\n",
        "n_outputs = 3\n",
        "\n",
        "weight_1, weight_2 = initialize(n_inputs, n_hidden, n_outputs)\n",
        "print(weight_1)\n",
        "print(weight_2)"
      ],
      "execution_count": null,
      "outputs": [
        {
          "output_type": "stream",
          "text": [
            "[[0.39964655 0.70625477 0.25998116 ... 0.44973884 0.2174186  0.18979974]\n",
            " [0.84029802 0.52156412 0.16271191 ... 0.33628132 0.76278196 0.12453369]\n",
            " [0.07284421 0.88526914 0.14263551 ... 0.41849057 0.5277384  0.08804143]]\n",
            "[[0.88948607 0.21767379 0.8802659  0.44554873]\n",
            " [0.83199814 0.15620892 0.04623105 0.90900942]\n",
            " [0.43082443 0.04525503 0.06920854 0.53692395]]\n"
          ],
          "name": "stdout"
        }
      ]
    },
    {
      "cell_type": "markdown",
      "metadata": {
        "id": "ROP7ArO51367"
      },
      "source": [
        "7. Buatlah kode python untuk mendefinisikan fungsi algoritma pembelajaran backpropagation - menghitung error (toriq)"
      ]
    },
    {
      "cell_type": "code",
      "metadata": {
        "id": "Ssq9uhFj92sJ"
      },
      "source": [
        "#mendefinisikan fungsi untuk menghitung error\n",
        "def countError(y, prediction):\n",
        "  return y - prediction"
      ],
      "execution_count": null,
      "outputs": []
    },
    {
      "cell_type": "markdown",
      "metadata": {
        "id": "ZMyItKRG16kv"
      },
      "source": [
        "8. Buatlah kode python untuk mendefinisikan fungsi algoritma pembelajaran backpropagation - Feedforward (toriq)\n"
      ]
    },
    {
      "cell_type": "code",
      "metadata": {
        "id": "9NZHvJi4bojM"
      },
      "source": [
        "#mendefinisikan fungsi feedforward\n",
        "def feedForward(data):\n",
        "  fp = np.dot(sig(np.dot(data, weight_1)), weight_2)\n",
        "  return sig(fp)"
      ],
      "execution_count": null,
      "outputs": []
    },
    {
      "cell_type": "markdown",
      "metadata": {
        "id": "orYw_9GJ19fi"
      },
      "source": [
        "9. Buatlah kode python untuk mendefinisikan fungsi algoritma pembelajaran backpropagation - backward (update bobot)"
      ]
    },
    {
      "cell_type": "code",
      "metadata": {
        "id": "aX8xgba1TSj6"
      },
      "source": [
        "def update_weights(weight, learning_rate, error, x):\n",
        "\tweight = weight + learning_rate * error * x"
      ],
      "execution_count": null,
      "outputs": []
    },
    {
      "cell_type": "markdown",
      "metadata": {
        "id": "K3If5o5G1_9m"
      },
      "source": [
        "10. Buatlah kode python untuk mendefinisikan fungsi algoritma pembelajaran backpropagation - prediksi (Khoirul)\n",
        "\n"
      ]
    },
    {
      "cell_type": "code",
      "metadata": {
        "id": "KcXYz059VS76"
      },
      "source": [
        "#mendefinisikan fungsi prediksi\n",
        "def predict(self, x): \n",
        "        a = np.concatenate((np.ones(1).T, np.array(x)), axis=1)      \n",
        "        for l in range(0, len(self.weights)):\n",
        "            a = self.sig(np.dot(a, self.weights[l]))\n",
        "        return a"
      ],
      "execution_count": null,
      "outputs": []
    },
    {
      "cell_type": "markdown",
      "metadata": {
        "id": "tXl05o9I2Cfh"
      },
      "source": [
        "11. Buatlah kode python untuk mendefinisikan fungsi algoritma pembelajaran backpropagation - mendefinisikan fungsi akurasi"
      ]
    },
    {
      "cell_type": "code",
      "metadata": {
        "id": "yQ1k5jefpf5y"
      },
      "source": [
        ""
      ],
      "execution_count": null,
      "outputs": []
    },
    {
      "cell_type": "markdown",
      "metadata": {
        "id": "aNIE-YCl2FIf"
      },
      "source": [
        "12. Buatlah kode python untuk mendefinisikan fungsi training (80% data) dan testing (20% data) (Khoirul)"
      ]
    },
    {
      "cell_type": "code",
      "metadata": {
        "id": "2hAeyJoCN6Jz"
      },
      "source": [
        "#memecah data menjadi fungsi training (80% data) dan testing (20% data)\n",
        "from sklearn.model_selection import train_test_split\n",
        "flower_data_train, flower_data_test, flower_class_train, flower_class_test = train_test_split(flower_data,flower_class, test_size=0.2)\n",
        "\n",
        "#menormalisasi data\n",
        "flower_data_train=np.array(flower_data_train)/255\n",
        "flower_data_test=np.array(flower_data_test)/255\n",
        "\n",
        "#mengepaskan ukuran array\n",
        "from sklearn.preprocessing import LabelEncoder\n",
        "flower_class_train = LabelEncoder().fit_transform(flower_class_train)\n",
        "flower_class_test = LabelEncoder().fit_transform(flower_class_test)\n",
        "\n",
        "#mengubah data menjadi format one hot\n",
        "from keras.utils import to_categorical\n",
        "flower_class_train = to_categorical(flower_class_train)\n",
        "flower_class_test = to_categorical(flower_class_test)"
      ],
      "execution_count": null,
      "outputs": []
    },
    {
      "cell_type": "code",
      "metadata": {
        "id": "uGCdWunLODtM"
      },
      "source": [
        "print(flower_class_train)"
      ],
      "execution_count": null,
      "outputs": []
    },
    {
      "cell_type": "markdown",
      "metadata": {
        "id": "IixxlrZD2G2e"
      },
      "source": [
        "13. Visualisasikan error dan akurasi setiap epoch untuk 50 epoch, dan coba gunakan learning rate = 0,1 ; learning rate = 0,8"
      ]
    },
    {
      "cell_type": "code",
      "metadata": {
        "id": "fqgIYkPFU-Ye"
      },
      "source": [
        "from keras.models import Sequential\n",
        "from keras.layers import Dense, Flatten, Conv2D, MaxPooling2D\n",
        "from tensorflow.keras import layers\n",
        "model = tf.keras.Sequential()\n",
        "\n",
        "model.add(layers.Conv2D(32, (5, 5), activation='relu', input_shape=(32,32,3)))\n",
        "model.add(layers.MaxPooling2D(pool_size=(2, 2)))\n",
        "model.add(layers.Conv2D(64, (5, 5), activation='relu'))\n",
        "model.add(layers.MaxPooling2D(pool_size=(2, 2)))\n",
        "model.add(layers.Flatten())\n",
        "model.add(layers.Dense(64, activation='relu'))\n",
        "model.add(layers.Dense(5,  activation='softmax'))"
      ],
      "execution_count": null,
      "outputs": []
    },
    {
      "cell_type": "code",
      "metadata": {
        "id": "zZTF2QnjVlxZ"
      },
      "source": [
        ""
      ],
      "execution_count": null,
      "outputs": []
    },
    {
      "cell_type": "code",
      "metadata": {
        "id": "KkZanbGuVqop"
      },
      "source": [
        ""
      ],
      "execution_count": null,
      "outputs": []
    }
  ]
}